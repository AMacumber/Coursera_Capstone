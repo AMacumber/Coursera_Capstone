{
 "cells": [
  {
   "cell_type": "markdown",
   "metadata": {},
   "source": [
    "# Ottawa's Metro Coming of Age\n",
    "\n",
    "\n",
    "_How do venues at Ottawa's 'soon to be' metro stations compare to venues surrounding Toronto's 'well established' metro stations_"
   ]
  },
  {
   "cell_type": "markdown",
   "metadata": {},
   "source": [
    "## Introduction\n",
    "\n",
    "\n",
    "### Business Problem\n",
    "\n",
    "\n",
    "With the eminent opening of the new light rail transit system - The Confederation Line - Canada's capital, Ottawa, Ontario, is set to complete it's largest transportation infrastructure project since the building of the Rideau Canal. With an expected increase in commuter traffic at the rail stations how will the venues change?\n",
    "\n",
    "We can compare Ottawa Rail Station venues to a more established metro, that of Toronto, Ontario. What types of venue are popular at Toronto Rail Stations? How are these different from proposed Ottawa Rail Stations.\n",
    "\n",
    "Perhaps differences can be targeted by local entrepeneurs when thinking about establishing new businesses."
   ]
  },
  {
   "cell_type": "markdown",
   "metadata": {},
   "source": [
    "## Data\n",
    "\n",
    "\n",
    "1. Dataset: Station ~ Location\n",
    "\n",
    "  Using Geopy a dataframe will be populated with Ottawa and Toronto rail station coordinates.\n",
    "  \n",
    "  -Dataset will consist of City, Station, Latitude, Longitude\n",
    "\n",
    "\n",
    "2. Dataset: Venue ~ Categories (for each rail station)\n",
    "\n",
    "  Using the Foursquare api, a search request will be made for all venues at the rail station (radius = 1 km, limit = 500).\n",
    "  \n",
    "  -Dataset will consist of the ID, Lat, Lon and Category (e.g., Restaurant, Bar, Museum) of each venue in the city\n",
    "  \n",
    "  \n",
    "3. Dataset: Category ~ Count (for each canadian city)\n",
    "\n",
    "  Using Dataset 2, venues will be grouped by the highest order category (e.g., Arts & Entertainment, Food, Nightlife) and a count taken.\n",
    "  \n",
    "  -Dataset will consist of Grouped Categories and the Count\n",
    "  \n",
    "  -A Foursquare Category index will be created in order to Group Venue categories\n",
    "  \n",
    "\n",
    "3. Dataset: Station ~ Category Count\n",
    "\n",
    "  Dataset 3 for each rail station will be combined to create a single dataframe consisting of the category counts for each rail station."
   ]
  },
  {
   "cell_type": "markdown",
   "metadata": {},
   "source": [
    "## Analyses\n",
    "\n",
    "\n",
    "1. Cluster Analysis\n",
    "\n",
    "  The Station ~ Category Count dataframe will undergo cluster analysis to see which rail stations cluster together based on their category counts (e.g., higher proporations of food venues as compared to arts & entertainment).\n",
    "  \n",
    "  \n",
    "2. Ordination\n",
    "\n",
    "  The Station ~ Category Count dataframe will undergo ordination to see visualize the spatial distribution of rail stations and compared to the cluster analysis.\n",
    "  \n",
    "  Recommendations will be made for specific services that will might increase in Ottawa once metro use has increased."
   ]
  },
  {
   "cell_type": "markdown",
   "metadata": {},
   "source": [
    "## Results\n",
    "\n",
    "\n"
   ]
  },
  {
   "cell_type": "markdown",
   "metadata": {},
   "source": [
    "## Discussion"
   ]
  },
  {
   "cell_type": "markdown",
   "metadata": {},
   "source": [
    "## Conclusion"
   ]
  }
 ],
 "metadata": {
  "kernelspec": {
   "display_name": "Python 3",
   "language": "python",
   "name": "python3"
  },
  "language_info": {
   "codemirror_mode": {
    "name": "ipython",
    "version": 3
   },
   "file_extension": ".py",
   "mimetype": "text/x-python",
   "name": "python",
   "nbconvert_exporter": "python",
   "pygments_lexer": "ipython3",
   "version": "3.7.1"
  }
 },
 "nbformat": 4,
 "nbformat_minor": 2
}
