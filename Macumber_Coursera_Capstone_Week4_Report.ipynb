{
 "cells": [
  {
   "cell_type": "markdown",
   "metadata": {},
   "source": [
    "# Battle of the Neighbourhoods"
   ]
  },
  {
   "cell_type": "markdown",
   "metadata": {},
   "source": [
    "## Introduction\n",
    "\n",
    "\n",
    "### Business Problem\n",
    "\n",
    "\n",
    "A local business, Just Peachy, has traditionally only been open for dinner service in the Ottawa Byward Market. They have done quite well. Recently, some of their clients have asked why don't they offer a weekday lunch service. \n",
    "\n",
    "The owner has concerns whether food similar to their dinner service would make for a successful lunch service. They suspect that the lunch crowd has different tastes.\n",
    "\n",
    "They are keen to know which types of restaurants are popular during lunch in the Ottawa Byward Market. With this information in hand the owner can then adapt a suitable lunch menu to be competitive.   "
   ]
  },
  {
   "cell_type": "markdown",
   "metadata": {},
   "source": [
    "## Methodology\n",
    "\n",
    "\n",
    "### The Data\n",
    "\n",
    "\n",
    "1. Dataset: Trending\n",
    "\n",
    "  Using the Foursquare api, requests for the top 30 trending venues in the Ottawa Byward Market will be made at 10 am, 11 am, 12 pm, 13 pm, and 14 pm every day from Monday to Friday for a week. For each request all venues will be assigned a score equal to their ranking in the top 100 trending venues.\n",
    "\n",
    "  -Scores will be averaged over the week to create the total score\n",
    "  \n",
    "  -Scores will be averaged over the day to create the Monday Score, Tuesday score, (etc.)\n",
    "  \n",
    "  -The completed dataset will be filtered for restaurant-like venues (e.g., cafes, pubs, bars).\n",
    "  \n",
    "  -The final dataset will consist of the following headings: Venue, Total Score, Monday Score, Tuesday Score, (etc.)\n",
    "  \n",
    "\n",
    "2. Dataset: Categories\n",
    "\n",
    "  Using the Foursquare api, a request will be made for all restaurant-type venues in the Ottawa Byward Market. This dataset will be used to extract restaurant information (categories) and used to compare to the __Trending__ dataset.\n",
    "  \n",
    "  -Categories will be filtered, keeping only those relevant to restaurants\n",
    "  \n",
    "  -One hot enconding will be used to convert categories to binary data\n",
    "  \n",
    "  -The final dataset will consist of the following headings: Venue, Categories\n",
    "\n",
    "\n",
    "## The Analyses\n",
    "  \n",
    "  \n",
    "1. Decision Tree\n",
    "\n",
    "  A decision tree algorithm will be used to see which categories are associated with top trending restaurants.\n",
    "  \n",
    "  This algorithm will be run seperately using the Total Score and the scores for each day of the week. For the latter, it will test whether there are certain days of the week that show different patterns.\n",
    "  \n",
    "  The output will be a list of categories that are associated with trending restaurants. Just Peachy should target these categories during its lunch service in order to be popular amongst the Ottawa Byward Market Crowd."
   ]
  }
 ],
 "metadata": {
  "kernelspec": {
   "display_name": "Python 3",
   "language": "python",
   "name": "python3"
  },
  "language_info": {
   "codemirror_mode": {
    "name": "ipython",
    "version": 3
   },
   "file_extension": ".py",
   "mimetype": "text/x-python",
   "name": "python",
   "nbconvert_exporter": "python",
   "pygments_lexer": "ipython3",
   "version": "3.7.1"
  }
 },
 "nbformat": 4,
 "nbformat_minor": 2
}
