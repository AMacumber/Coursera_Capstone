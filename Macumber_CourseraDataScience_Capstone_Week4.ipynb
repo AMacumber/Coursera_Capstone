{
 "cells": [
  {
   "cell_type": "markdown",
   "metadata": {},
   "source": [
    "# Battle of the Neighbourhoods"
   ]
  },
  {
   "cell_type": "markdown",
   "metadata": {},
   "source": [
    "## Introduction"
   ]
  },
  {
   "cell_type": "markdown",
   "metadata": {},
   "source": [
    "### Business Problem"
   ]
  },
  {
   "cell_type": "markdown",
   "metadata": {},
   "source": [
    "A local business is having trouble attracting customers. A quick tour around their neighbourhood shows that many other businesses are not having a similar issue. \n",
    "\n",
    "They would like to know what it is that other businesses are offering that they are not."
   ]
  },
  {
   "cell_type": "markdown",
   "metadata": {},
   "source": [
    "### The Data"
   ]
  },
  {
   "cell_type": "markdown",
   "metadata": {},
   "source": [
    "The Foursquare location data will be used to track trending spots in the 'walkable' neighbourhood around the restaurant. \n",
    "\n",
    "1. Dataset: Trending\n",
    "\n",
    "  A request, will be made several times (10, 11, 12, 13, 14)h a day for a week, for the top trending venues. Based on their ranking each venue (filter to restaurant?) will be assigned a score.\n",
    "\n",
    "  Perhaps it is important to take all 100 venues, assign score and then filter out restaurants. In this way if it is a time of day that is not so popular for restaurants in general this will be factored in.  \n",
    "  \n",
    "    1. __Assumptions__\n",
    "  \n",
    "    The time block from 10h to 14h will provide relatively similar trending results throughout; free from time of day trends.\n",
    "  \n",
    "    This will not change between Mon and Friday; free from day of week trends.\n",
    "    \n",
    "  The trending scores of venues will be compared to their categories to see if any are related. This will be done on a daily and weekly basis (to investigate) time of week influences.\n",
    "\n",
    "\n",
    "2. Dataset: Categories\n",
    "\n",
    "  For the Ottawa Byward Market a inventory will be made of all restaurants. This dataset will be used to extract restaurant information (categories) and used to compare to the __Trending__ dataset.\n",
    "\n",
    "\n",
    "3. Outputs\n",
    "\n",
    "  A list of categories that the restaurant should have in order to be trending.\n",
    "  \n",
    "  _Optional_ A heat map animation showing how distribution of trending spots changes over time.\n",
    "    "
   ]
  },
  {
   "cell_type": "markdown",
   "metadata": {},
   "source": [
    "## Methodology\n",
    "\n",
    "\n",
    "1. Sampling\n",
    "  \n",
    "  From Monday to Friday for one week a request (Trending) for the top 30 venues will be made at c(10, 11, 12, 13, 14) with the foursquare api centered on Ottawa Byward Market.\n",
    "  \n",
    "  On Day 1 a request (Venue) will be made with the foursquare api centered on Ottawa Byward Market. All restaurants will be organised into a pandas dataframe along with their categories.\n",
    "  \n",
    "  \n",
    "2. Analysis\n",
    "\n",
    "  Assign a rank to the top 30 venues at each time point (M-F; 10-14).\n",
    "  \n",
    "  Filter(venues, category = restaurant)\n",
    "  \n",
    "  Look for a relationship between sum(rank) to restaurant categories."
   ]
  }
 ],
 "metadata": {
  "kernelspec": {
   "display_name": "Python 3",
   "language": "python",
   "name": "python3"
  },
  "language_info": {
   "codemirror_mode": {
    "name": "ipython",
    "version": 3
   },
   "file_extension": ".py",
   "mimetype": "text/x-python",
   "name": "python",
   "nbconvert_exporter": "python",
   "pygments_lexer": "ipython3",
   "version": "3.7.1"
  }
 },
 "nbformat": 4,
 "nbformat_minor": 2
}
